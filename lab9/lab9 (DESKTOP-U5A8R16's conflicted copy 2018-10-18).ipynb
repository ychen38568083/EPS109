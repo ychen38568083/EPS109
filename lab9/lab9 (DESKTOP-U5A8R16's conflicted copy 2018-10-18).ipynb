{
 "cells": [
  {
   "cell_type": "code",
   "execution_count": 1,
   "metadata": {},
   "outputs": [],
   "source": [
    "#################### This is coded in python2 ########################\n",
    "import numpy as np\n",
    "import matplotlib.pyplot as plt\n",
    "from mpl_toolkits.mplot3d import Axes3D\n",
    "from matplotlib import cm"
   ]
  },
  {
   "cell_type": "code",
   "execution_count": 2,
   "metadata": {},
   "outputs": [],
   "source": [
    "N=20\n",
    "L=1\n",
    "x = np.linspace(0,L,N+1)\n",
    "t = np.linspace(0,L,N+1)"
   ]
  },
  {
   "cell_type": "code",
   "execution_count": 3,
   "metadata": {},
   "outputs": [
    {
     "data": {
      "text/plain": [
       "array([ 0.  ,  0.05,  0.1 ,  0.15,  0.2 ,  0.25,  0.3 ,  0.35,  0.4 ,\n",
       "        0.45,  0.5 ,  0.55,  0.6 ,  0.65,  0.7 ,  0.75,  0.8 ,  0.85,\n",
       "        0.9 ,  0.95,  1.  ])"
      ]
     },
     "execution_count": 3,
     "metadata": {},
     "output_type": "execute_result"
    }
   ],
   "source": [
    "x"
   ]
  },
  {
   "cell_type": "code",
   "execution_count": 4,
   "metadata": {},
   "outputs": [],
   "source": [
    "for i in range((N/2)+1):\n",
    "    t[i] = i*0.1\n",
    "    t[len(t)-(i+1)] = i*0.1"
   ]
  },
  {
   "cell_type": "code",
   "execution_count": 5,
   "metadata": {},
   "outputs": [
    {
     "data": {
      "text/plain": [
       "array([ 0. ,  0.1,  0.2,  0.3,  0.4,  0.5,  0.6,  0.7,  0.8,  0.9,  1. ,\n",
       "        0.9,  0.8,  0.7,  0.6,  0.5,  0.4,  0.3,  0.2,  0.1,  0. ])"
      ]
     },
     "execution_count": 5,
     "metadata": {},
     "output_type": "execute_result"
    }
   ],
   "source": [
    "t"
   ]
  },
  {
   "cell_type": "code",
   "execution_count": 6,
   "metadata": {},
   "outputs": [
    {
     "data": {
      "image/png": "[encoded data removed]",
      "text/plain": [
       "<Figure size 432x288 with 1 Axes>"
      ]
     },
     "metadata": {},
     "output_type": "display_data"
    }
   ],
   "source": [
    "plt.plot(x,t,'r.--')\n",
    "plt.show()"
   ]
  },
  {
   "cell_type": "code",
   "execution_count": 7,
   "metadata": {},
   "outputs": [],
   "source": [
    "dt = 10e-4\n",
    "dx=.05\n",
    "k=1\n",
    "r = (dt*k)/(dx**2)"
   ]
  },
  {
   "cell_type": "code",
   "execution_count": 9,
   "metadata": {
    "scrolled": true
   },
   "outputs": [],
   "source": [
    "#%matplotlib qt\n",
    "T_new = t \n",
    "for j in range(20):\n",
    "    for i in range(N):\n",
    "        T_new[i] = r *(t[i+1] - 2*t[i] +t[i-1]) + t[i]\n",
    "\n",
    "    t = T_new\n",
    "\n",
    "#     plt.clf()\n",
    "#     plt.ylim(0,1)\n",
    "#     plt.plot(x,t,'ro-',mfc='w')\n",
    "#     plt.draw()\n",
    "#     plt.pause(.05)"
   ]
  },
  {
   "cell_type": "code",
   "execution_count": 11,
   "metadata": {},
   "outputs": [
    {
     "data": {
      "image/png": "[encoded data removed]",
      "text/plain": [
       "<Figure size 432x288 with 1 Axes>"
      ]
     },
     "metadata": {},
     "output_type": "display_data"
    }
   ],
   "source": [
    "X, Y = np.meshgrid(x,t)\n",
    "T = np.zeros((N+1,N+1))\n",
    "\n",
    "plt.imshow(T)\n",
    "T_new = T\n",
    "\n",
    "dt=10e-4\n",
    "k=1\n",
    "dx=.05\n",
    "dy = .05\n",
    "rx = dt*k/dx**2 \n",
    "ry = dt*k/dy**2\n",
    "for k in range(10):\n",
    "    for i in range(N):\n",
    "        for j in range(N):\n",
    "            T_new[i][j] = rx*(T[i][j+1] + T[i][j-1] - 2*T[i][j]) + ry*(T[i+1][j] + T[i-1][j] - 2*T[i][j]) + T[i][j]\n",
    "            \n",
    "    T = T_new"
   ]
  },
  {
   "cell_type": "code",
   "execution_count": 136,
   "metadata": {},
   "outputs": [
    {
     "name": "stdout",
     "output_type": "stream",
     "text": [
      "[[ 0.  0.  0. ...,  0.  0.  0.]\n",
      " [ 0.  1.  0. ...,  0.  0.  0.]\n",
      " [ 0.  1.  2. ...,  0.  0.  0.]\n",
      " ..., \n",
      " [ 0.  0.  0. ...,  0.  0.  0.]\n",
      " [ 0.  0.  0. ...,  0.  0.  0.]\n",
      " [ 0.  0.  0. ...,  0.  0.  0.]]\n"
     ]
    },
    {
     "data": {
      "image/png": "[encoded data removed]",
      "text/plain": [
       "<Figure size 432x288 with 1 Axes>"
      ]
     },
     "metadata": {},
     "output_type": "display_data"
    }
   ],
   "source": [
    "N=100\n",
    "T = np.zeros((N+1,N+1))\n",
    "for k in range(1,N/2+1):\n",
    "    for i in range(1,N/2):\n",
    "        T[i+k-1][k] = k #left\n",
    "        \n",
    "        \n",
    "        \n",
    "    #         T[i][N-k] = k #right\n",
    "                #       T[k][i] = k\n",
    "                #       T[N-k][i] = k\n",
    "    \n",
    "plt.imshow(T)\n",
    "print(T)"
   ]
  },
  {
   "cell_type": "code",
   "execution_count": null,
   "metadata": {},
   "outputs": [],
   "source": [
    "for i in range((N/2)+1):\n",
    "    t[i] = i*0.1\n",
    "    t[len(t)-(i+1)] = i*0.1"
   ]
  },
  {
   "cell_type": "code",
   "execution_count": null,
   "metadata": {},
   "outputs": [],
   "source": []
  }
 ],
 "metadata": {
  "kernelspec": {
   "display_name": "Python 2",
   "language": "python",
   "name": "python2"
  },
  "language_info": {
   "codemirror_mode": {
    "name": "ipython",
    "version": 2
   },
   "file_extension": ".py",
   "mimetype": "text/x-python",
   "name": "python",
   "nbconvert_exporter": "python",
   "pygments_lexer": "ipython2",
   "version": "2.7.14"
  }
 },
 "nbformat": 4,
 "nbformat_minor": 2
}
