{
 "cells": [
  {
   "cell_type": "markdown",
   "metadata": {},
   "source": [
    "# Diffusion Limited Aggregation \n",
    "\n",
    "#### Author : B. Militzer, University of California, Berkeley \n",
    "#### Date   : Sept. 26, 2018\n",
    "\n",
    "#### Read \"The Science of Fractal Images\", Ed. Peitgen and Saupe, p. 37 (1988)\n"
   ]
  },
  {
   "cell_type": "code",
   "execution_count": 1,
   "metadata": {},
   "outputs": [],
   "source": [
    "import numpy as np\n",
    "import matplotlib.pyplot as plt\n"
   ]
  },
  {
   "cell_type": "code",
   "execution_count": 2,
   "metadata": {},
   "outputs": [],
   "source": [
    "#note, this function expects a matrix A[ix,iy] \n",
    "#and then displays so that A[:,0] is the lowest row of pixels\n",
    "def display(A):\n",
    "    maxX = A.shape[0]\n",
    "    maxY = A.shape[1]\n",
    "    B = np.zeros((maxY, maxX))\n",
    "    for ix in range(0,maxX):\n",
    "        for iy in range(0,maxY):\n",
    "            B[maxY-1-iy,ix] = A[ix,iy]\n",
    "\n",
    "    %matplotlib qt\n",
    "    #On a PC, use 'qt' instead\n",
    "    #plt.rcParams['figure.figsize'] = [15, 15/maxX*maxY]\n",
    "    plt.imshow(B); \n",
    "    plt.axis('off'); \n",
    "    plt.show()\n",
    "    plt.draw()\n",
    "    plt.pause(0.01)"
   ]
  },
  {
   "cell_type": "code",
   "execution_count": 3,
   "metadata": {},
   "outputs": [],
   "source": [
    "nParticles = 100*1000\n",
    "maxX = 100\n",
    "maxY = 100"
   ]
  },
  {
   "cell_type": "code",
   "execution_count": 4,
   "metadata": {},
   "outputs": [
    {
     "name": "stdout",
     "output_type": "stream",
     "text": [
      "[[1. 1. 1. ... 1. 1. 1.]\n",
      " [0. 0. 0. ... 0. 0. 0.]\n",
      " [0. 0. 0. ... 0. 0. 0.]\n",
      " ...\n",
      " [0. 0. 0. ... 0. 0. 0.]\n",
      " [0. 0. 0. ... 0. 0. 0.]\n",
      " [0. 0. 0. ... 0. 0. 0.]]\n"
     ]
    }
   ],
   "source": [
    "# Initialize matrix containing all 2D grid points A(x,y)\n",
    "# 0 <= x < maxX\n",
    "# 0 <= y < maxY\n",
    "# A(x,y)=0 ... site is empty\n",
    "# A(x,y)>0 ... site is filled\n",
    "A = np.zeros((maxX, maxY))\n",
    "\n",
    "# Introduce a sticky wall at the bottom \n",
    "# by filling the lowest row of pixels with particles\n",
    "A[:,0] = 1\n",
    "print(A.transpose())"
   ]
  },
  {
   "cell_type": "code",
   "execution_count": 5,
   "metadata": {},
   "outputs": [
    {
     "data": {
      "text/plain": [
       "(100L, 100L)"
      ]
     },
     "execution_count": 5,
     "metadata": {},
     "output_type": "execute_result"
    }
   ],
   "source": [
    "A.shape"
   ]
  },
  {
   "cell_type": "code",
   "execution_count": 6,
   "metadata": {
    "scrolled": false
   },
   "outputs": [],
   "source": [
    "#test the display routine\n",
    "display(A)"
   ]
  },
  {
   "cell_type": "code",
   "execution_count": 7,
   "metadata": {},
   "outputs": [],
   "source": [
    "# To save computer time, we want to inject the new particle not too far\n",
    "# above growing aggregate. We inject at on a line 'yStart', which\n",
    "# keeps being increased so that it is always 'yBuffer' lines above the\n",
    "# highest structure\n",
    "yBuffer = 5\n",
    "yStart  = 1 + yBuffer"
   ]
  },
  {
   "cell_type": "code",
   "execution_count": 8,
   "metadata": {},
   "outputs": [
    {
     "data": {
      "text/plain": [
       "0.017114845928710265"
      ]
     },
     "execution_count": 8,
     "metadata": {},
     "output_type": "execute_result"
    }
   ],
   "source": [
    "np.random.random()"
   ]
  },
  {
   "cell_type": "code",
   "execution_count": 9,
   "metadata": {
    "scrolled": true
   },
   "outputs": [
    {
     "name": "stdout",
     "output_type": "stream",
     "text": [
      "('i=', 0, ' \\tx=', 46, '\\ty=', 1, ' \\tyStart=', 6)\n",
      "('i=', 1000, ' \\tx=', 35, '\\ty=', 55, ' \\tyStart=', 64)\n",
      "('Structures reached Y limit after only', 1541, 'particles')\n"
     ]
    }
   ],
   "source": [
    "for i in range(0,nParticles):\n",
    "    # Compute new starting point on the line y=yStart\n",
    "    x  = np.random.randint(0,maxX)\n",
    "    y  = yStart; #always start at upper limit\n",
    "\n",
    "    while True:\n",
    "        xOrg = x\n",
    "        yOrg = y\n",
    "        r = np.random.random(); # Random float:  0.0 <= r < 1.0\n",
    "        #based on the value of 'r', move the particle\n",
    "        #left, right, up, or down and change x and y accordingly\n",
    "        if r > 0 and r <= .25: #up\n",
    "            x = x+1\n",
    "        if r > .25 and r <= .5: #down\n",
    "            x = x-1\n",
    "        if r > .5 and r <= .75: #left\n",
    "            y = y-1\n",
    "        if r > .75 and r <= 1: #right\n",
    "            y = y+1\n",
    "            \n",
    "            \n",
    "        \n",
    "        #now apply periodic boundary conditions to 'x'\n",
    "        if x < 0:\n",
    "            x = maxX-1\n",
    "        if x > maxX-1:\n",
    "            x = 0\n",
    "        \n",
    "        if (A[x,y] == 1 or y>yStart): \n",
    "            x = xOrg\n",
    "            y = yOrg\n",
    "            continue; # if this site has been taken try moving in a different direction\n",
    "        \n",
    "        #determine the x coordionates of the left and right neighbors\n",
    "        #store them in 'xm' and 'xp' and apply periodic boundary conditions again\n",
    "        xp = x+1\n",
    "        xm = x-1\n",
    "        \n",
    "        if xp > maxX-1:\n",
    "            xp = 0\n",
    "        if xm < 0:\n",
    "            xm = maxX-1\n",
    "            \n",
    "        yp = y+1\n",
    "        ym = y-1\n",
    " \n",
    "        # Determine if any neighboring site is occupied\n",
    "        # if that is the case, enter the following 'if' clause\n",
    "        if A[xm,y] == 1 or A[xp,y] == 1 or A[x,ym] == 1 or A[x,yp] ==1: \n",
    "            A[x,y] = 1\n",
    "            if (y+yBuffer>yStart and y+yBuffer<maxY): \n",
    "                yStart = y+yBuffer\n",
    "\n",
    "            if (i%1000==0): \n",
    "                print('i=',i,' \\tx=',x,'\\ty=',y,' \\tyStart=',yStart)\n",
    "\n",
    "            nNewParticlesPerFrame = 1000 \n",
    "#             if (i%nNewParticlesPerFrame==0): \n",
    "#                 display(A)\n",
    "                \n",
    "            break # particle was attached, break out of current loop and insert next one\n",
    "            \n",
    "    if (yStart+1==maxY): \n",
    "        print('Structures reached Y limit after only', i ,'particles')\n",
    "        break\n",
    "\n",
    "display(A)"
   ]
  },
  {
   "cell_type": "code",
   "execution_count": null,
   "metadata": {},
   "outputs": [],
   "source": []
  },
  {
   "cell_type": "code",
   "execution_count": null,
   "metadata": {},
   "outputs": [],
   "source": []
  }
 ],
 "metadata": {
  "kernelspec": {
   "display_name": "Python 2",
   "language": "python",
   "name": "python2"
  },
  "language_info": {
   "codemirror_mode": {
    "name": "ipython",
    "version": 2
   },
   "file_extension": ".py",
   "mimetype": "text/x-python",
   "name": "python",
   "nbconvert_exporter": "python",
   "pygments_lexer": "ipython2",
   "version": "2.7.15"
  }
 },
 "nbformat": 4,
 "nbformat_minor": 2
}
