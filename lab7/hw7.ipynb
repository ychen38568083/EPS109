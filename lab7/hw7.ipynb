{
 "cells": [
  {
   "cell_type": "code",
   "execution_count": 1,
   "metadata": {},
   "outputs": [],
   "source": [
    "import numpy as np\n",
    "import matplotlib.pyplot as plt"
   ]
  },
  {
   "cell_type": "code",
   "execution_count": 2,
   "metadata": {},
   "outputs": [],
   "source": [
    "maxX = 200\n",
    "maxY = 200\n",
    "\n",
    "def display(A):\n",
    "    maxX = A.shape[0]\n",
    "    maxY = A.shape[1]\n",
    "    B = np.zeros((maxY, maxX))\n",
    "    for ix in range(0,maxX):\n",
    "        for iy in range(0,maxY):\n",
    "            B[maxY-1-iy,ix] = A[ix,iy]\n",
    "\n",
    "    #%matplotlib qt\n",
    "    #On a PC, use 'qt' instead\n",
    "    #plt.rcParams['figure.figsize'] = [15, 15/maxX*maxY]\n",
    "    plt.figure(figsize=(12,7))\n",
    "    plt.imshow(B); \n",
    "    plt.axis('off'); \n",
    "    plt.show()\n",
    "    plt.draw()\n",
    "    plt.pause(0.01)"
   ]
  },
  {
   "cell_type": "code",
   "execution_count": 3,
   "metadata": {},
   "outputs": [
    {
     "name": "stdout",
     "output_type": "stream",
     "text": [
      "[[1. 1. 1. ... 1. 1. 1.]\n",
      " [1. 0. 0. ... 0. 0. 1.]\n",
      " [1. 0. 0. ... 0. 0. 1.]\n",
      " ...\n",
      " [1. 0. 0. ... 0. 0. 1.]\n",
      " [1. 0. 0. ... 0. 0. 1.]\n",
      " [1. 1. 1. ... 1. 1. 1.]]\n"
     ]
    }
   ],
   "source": [
    "# Initialize matrix containing all 2D grid points A(x,y)\n",
    "# 0 <= x < maxX\n",
    "# 0 <= y < maxY\n",
    "# A(x,y)=0 ... site is empty\n",
    "# A(x,y)>0 ... site is filled\n",
    "A = np.zeros((maxX, maxY))\n",
    "\n",
    "# Introduce 4 sticky walls\n",
    "\n",
    "A[:,0] = 1\n",
    "A[0,:] = 1\n",
    "A[maxX-1,:] = 1\n",
    "A[:,maxY-1] = 1\n",
    "print(A.transpose())\n",
    "#display(A)"
   ]
  },
  {
   "cell_type": "code",
   "execution_count": 4,
   "metadata": {},
   "outputs": [
    {
     "name": "stdout",
     "output_type": "stream",
     "text": [
      "0.0\n"
     ]
    }
   ],
   "source": [
    "# To save computer time, we want to inject the new particle not too far\n",
    "# above growing aggregate. We inject at on a line 'yStart', which\n",
    "# keeps being increased so that it is always 'yBuffer' lines above the\n",
    "# highest structure\n",
    "# yBuffer = 5\n",
    "# yStart  = 1 + yBuffer\n",
    "yStart = maxY/2\n",
    "xStart = maxX/2\n",
    "#display(A)\n",
    "print(A[xStart,yStart])"
   ]
  },
  {
   "cell_type": "code",
   "execution_count": 5,
   "metadata": {},
   "outputs": [],
   "source": [
    "# x = maxX/2\n",
    "# y = maxY/2 #start at the center of the matrix\n",
    "# for i in range(0,10000):\n",
    "#     xOrg = x\n",
    "#     yOrg = y\n",
    "#     #print(i,x,y)\n",
    "#     while True:\n",
    "        \n",
    "# #         if (A[x,y]>0):\n",
    "# #             print(x,y,'Space occupied')\n",
    "# #             break\n",
    "        \n",
    "#         r = np.random.random()\n",
    "#         # Random float:  0.0 <= r < 1.0\n",
    "#         #based on the value of 'r', move the particle\n",
    "#         #left, right, up, or down and change x and y accordingly\n",
    "#         if r > 0 and r <= .25: #up\n",
    "#             x = x+1\n",
    "#         if r > .25 and r <= .5: #down\n",
    "#             x = x-1\n",
    "#         if r > .5 and r <= .75: #left\n",
    "#             y = y-1\n",
    "#         if r > .75 and r <= 1: #right\n",
    "#             y = y+1\n",
    "            \n",
    "#         if (y==maxY-1 or y ==0 or x ==0 or x ==maxX-1): \n",
    "#             print('Hit a sticky wall after only',i,'particles')\n",
    "#             break\n",
    "            \n",
    "#         #print('value at',(x,y),'is',A[x,y])\n",
    "        \n",
    "# #         if A[x,y] == 1: \n",
    "# #             continue # if this site has been taken try moving in a different direction\n",
    "        \n",
    "        \n",
    "# #         xp = x+1 #right\n",
    "# #         xm = x-1 #left\n",
    "# #         yp = y+1 #down\n",
    "# #         ym = y-1 #up\n",
    "        \n",
    "#         A[x,y] = 1\n",
    "#         break\n",
    "        \n",
    "#         #if hit the boundary, break out loop\n",
    "#         # Determine if any neighboring site is occupied\n",
    "#         # if that is the case, enter the following 'if' clause\n",
    "# #         if A[xm,y] == 1 or A[xp,y] == 1 or A[x,ym] == 1 or A[x,yp] ==1: \n",
    "# #             A[x,y] = 1\n",
    "# #             if (y>yStart and y<maxY): \n",
    "# #                 yStart = y\n",
    "\n",
    "# #             if (i%1000==0): \n",
    "# #                 print('i= ',i,'\\tx=',x,' \\ty=',y,'\\tyStart=',yStart)\n",
    "\n",
    "# #             nNewParticlesPerFrame = 1000 \n",
    "# #             if (i%nNewParticlesPerFrame==0): \n",
    "# #                 display(A)\n",
    "                \n",
    "# #             break # particle was attached, break out of current loop and insert next one\n",
    "            \n",
    "# display(A)"
   ]
  },
  {
   "cell_type": "markdown",
   "metadata": {},
   "source": [
    "$\\textbf{PART A}$"
   ]
  },
  {
   "cell_type": "code",
   "execution_count": 6,
   "metadata": {},
   "outputs": [
    {
     "data": {
      "image/png": "[encoded data removed]",
      "text/plain": [
       "<Figure size 864x504 with 1 Axes>"
      ]
     },
     "metadata": {
      "needs_background": "light"
     },
     "output_type": "display_data"
    },
    {
     "data": {
      "text/plain": [
       "<Figure size 432x288 with 0 Axes>"
      ]
     },
     "metadata": {},
     "output_type": "display_data"
    }
   ],
   "source": [
    "nParticles = 100*1000\n",
    "x = maxX/2\n",
    "y = maxY/2 #start at the center of the matrix\n",
    "for i in range(0,nParticles):\n",
    "    xOrg = x\n",
    "    yOrg = y\n",
    "    \n",
    "    while True:\n",
    "        r = np.random.random()\n",
    "        if r > 0 and r <= .25: #up\n",
    "            x = x+1\n",
    "        if r > .25 and r <= .5: #down\n",
    "            x = x-1\n",
    "        if r > .5 and r <= .75: #left\n",
    "            y = y-1\n",
    "        if r > .75 and r <= 1: #right\n",
    "            y = y+1\n",
    "            \n",
    "        \n",
    "       \n",
    "        if (y >= maxY-1 or y <= 0 or x <= 0 or x >= maxX-1): \n",
    "#             print('Hit a sticky wall after only',i,'particles')\n",
    "#             print(x,y)\n",
    "            break\n",
    "    \n",
    "        xp = x+1 #right\n",
    "        xm = x-1 #left\n",
    "        yp = y+1 #down\n",
    "        ym = y-1 #up\n",
    "        \n",
    "        if A[xm,y] == 1 and A[xp,y] == 1 and A[x,ym] == 1 and A[x,yp] ==1:\n",
    "            #print('Stuck at',x,y,'breaking out')\n",
    "            break\n",
    "\n",
    "        A[x,y] = 1\n",
    "        break\n",
    "        \n",
    "\n",
    "display(A)"
   ]
  },
  {
   "cell_type": "markdown",
   "metadata": {},
   "source": [
    "Dentrites are having hard time growing in the corner beacuse it is easy to get stuck in a condition where all four directions have the value of 1. This can cause a loop in the code where it repeatly trying to escape that condition."
   ]
  },
  {
   "cell_type": "markdown",
   "metadata": {},
   "source": [
    "$\\textbf{PART B}$"
   ]
  },
  {
   "cell_type": "code",
   "execution_count": 7,
   "metadata": {},
   "outputs": [
    {
     "data": {
      "image/png": "[encoded data removed]",
      "text/plain": [
       "<Figure size 864x504 with 1 Axes>"
      ]
     },
     "metadata": {
      "needs_background": "light"
     },
     "output_type": "display_data"
    }
   ],
   "source": [
    "############################### MAKE THE CIRCLE ##############################################\n",
    "\n",
    "n= 300\n",
    "data = np.zeros((n,n))\n",
    "data[0:n,0:n] = 1\n",
    "\n",
    "r = n/2.05\n",
    "center1 = n//2 #appoint a center (note this is for both x and y components, meaning h = k = n//2)\n",
    "#0 Circle \n",
    "for i in range(n):\n",
    "    for j in range(n):\n",
    "        if (i-center1)**2+(j-center1)**2 <= r**2:\n",
    "            data[i,j] = 0\n",
    "            \n",
    "############################## REPEAT PART A #################################################     \n",
    "\n",
    "nParticles = 100*1000\n",
    "x = len(data[0])/2\n",
    "y = len(data[0])/2 #start at the center of the matrix\n",
    "for i in range(0,nParticles):\n",
    "    xOrg = x\n",
    "    yOrg = y\n",
    "    \n",
    "    while True:\n",
    "        r = np.random.random()\n",
    "        if r > 0 and r <= .25: #up\n",
    "            x = x+1\n",
    "        if r > .25 and r <= .5: #down\n",
    "            x = x-1\n",
    "        if r > .5 and r <= .75: #left\n",
    "            y = y-1\n",
    "        if r > .75 and r <= 1: #right\n",
    "            y = y+1\n",
    "            \n",
    "        \n",
    "        if (y >= len(data)-1 or y <= 0 or x <= 0 or x >= len(data)-1): \n",
    "#             print('Hit a sticky wall after only',i,'particles')\n",
    "#             print(x,y)\n",
    "            break\n",
    "    \n",
    "        xp = x+1 #right\n",
    "        xm = x-1 #left\n",
    "        yp = y+1 #down\n",
    "        ym = y-1 #up\n",
    "        \n",
    "        if data[xm,y] == 1 and data[xp,y] == 1 and data[x,ym] == 1 and data[x,yp] ==1:\n",
    "            #print('Stuck at',x,y,'breaking out')\n",
    "            break\n",
    "\n",
    "        data[x,y] = 1\n",
    "        break\n",
    "        \n",
    "plt.figure(figsize=(12,7))\n",
    "plt.imshow(data, interpolation='nearest')\n",
    "plt.show()        "
   ]
  },
  {
   "cell_type": "code",
   "execution_count": null,
   "metadata": {},
   "outputs": [],
   "source": [
    "     "
   ]
  },
  {
   "cell_type": "code",
   "execution_count": null,
   "metadata": {},
   "outputs": [],
   "source": [
    "\n"
   ]
  },
  {
   "cell_type": "code",
   "execution_count": null,
   "metadata": {},
   "outputs": [],
   "source": []
  }
 ],
 "metadata": {
  "kernelspec": {
   "display_name": "Python 2",
   "language": "python",
   "name": "python2"
  },
  "language_info": {
   "codemirror_mode": {
    "name": "ipython",
    "version": 2
   },
   "file_extension": ".py",
   "mimetype": "text/x-python",
   "name": "python",
   "nbconvert_exporter": "python",
   "pygments_lexer": "ipython2",
   "version": "2.7.15"
  }
 },
 "nbformat": 4,
 "nbformat_minor": 2
}
