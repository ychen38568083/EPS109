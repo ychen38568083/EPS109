{
 "cells": [
  {
   "cell_type": "code",
   "execution_count": 1,
   "metadata": {},
   "outputs": [],
   "source": [
    "import numpy as np\n",
    "import matplotlib.pyplot as plt"
   ]
  },
  {
   "cell_type": "markdown",
   "metadata": {},
   "source": [
    "$\\textbf{Stationary State of the Heat Equation in 1D}$"
   ]
  },
  {
   "cell_type": "code",
   "execution_count": 2,
   "metadata": {},
   "outputs": [],
   "source": [
    "N = 51\n",
    "L = 30\n",
    "x = np.linspace(0,L,N+1)"
   ]
  },
  {
   "cell_type": "code",
   "execution_count": 3,
   "metadata": {},
   "outputs": [
    {
     "data": {
      "text/plain": [
       "0.0"
      ]
     },
     "execution_count": 3,
     "metadata": {},
     "output_type": "execute_result"
    }
   ],
   "source": [
    "x[0]"
   ]
  },
  {
   "cell_type": "code",
   "execution_count": 4,
   "metadata": {},
   "outputs": [
    {
     "data": {
      "text/plain": [
       "30.0"
      ]
     },
     "execution_count": 4,
     "metadata": {},
     "output_type": "execute_result"
    }
   ],
   "source": [
    "x[N]"
   ]
  },
  {
   "cell_type": "code",
   "execution_count": 5,
   "metadata": {},
   "outputs": [],
   "source": [
    "T = np.zeros(N+1)\n",
    "for i in range(N+1):\n",
    "    if i == 0:\n",
    "        T[i] = 100"
   ]
  },
  {
   "cell_type": "code",
   "execution_count": 6,
   "metadata": {},
   "outputs": [
    {
     "data": {
      "image/png": "[encoded data removed]",
      "text/plain": [
       "<Figure size 432x288 with 1 Axes>"
      ]
     },
     "metadata": {},
     "output_type": "display_data"
    }
   ],
   "source": [
    "plt.plot(x,T,'o-')\n",
    "plt.xlabel('x')\n",
    "plt.ylabel('T(x)')\n",
    "plt.show()"
   ]
  },
  {
   "cell_type": "code",
   "execution_count": null,
   "metadata": {},
   "outputs": [],
   "source": []
  },
  {
   "cell_type": "code",
   "execution_count": 7,
   "metadata": {},
   "outputs": [
    {
     "data": {
      "image/png": "[encoded data removed]",
      "text/plain": [
       "<Figure size 432x288 with 1 Axes>"
      ]
     },
     "metadata": {},
     "output_type": "display_data"
    }
   ],
   "source": [
    "T = np.zeros(N+1)\n",
    "for i in range(N+1):\n",
    "    if i == 0:\n",
    "        T[i] = 100\n",
    "T_new = T        \n",
    "for k in range(1000):      \n",
    "    #it1 = np.zeros(N+1)\n",
    "    #it1[0] = T[0]\n",
    "    \n",
    "    for i in range(1,N-1):\n",
    "        T_new[i] = (T[i+1] + T[i-1])/2\n",
    "        \n",
    "    T = T_new\n",
    "    \n",
    "# %matplotlib qt\n",
    "# plt.clf()\n",
    "plt.plot(x,T,'ro-',mfc='w')\n",
    "plt.show()\n",
    "# plt.draw()\n",
    "# plt.pause(.3)\n"
   ]
  },
  {
   "cell_type": "markdown",
   "metadata": {},
   "source": [
    "$\\textbf{Stationary State of the Heat Equation in 2D}$"
   ]
  },
  {
   "cell_type": "code",
   "execution_count": 8,
   "metadata": {
    "scrolled": true
   },
   "outputs": [
    {
     "name": "stdout",
     "output_type": "stream",
     "text": [
      "(52L, 52L)\n",
      "(52L, 52L)\n",
      "('Total value initially =', 1.9980442743337221e+31)\n",
      "('Total value at the end =', 8.9931159431690166e+169)\n"
     ]
    }
   ],
   "source": [
    "from mpl_toolkits.mplot3d import Axes3D\n",
    "from matplotlib import cm\n",
    "%matplotlib qt\n",
    "\n",
    "L=52\n",
    "\n",
    "x = np.linspace(0,L,N+1)\n",
    "y = np.linspace(0,L,N+1)\n",
    "X, Y = np.meshgrid(x,y)\n",
    "fig = plt.figure(dpi=200)\n",
    "\n",
    "\n",
    "T = np.zeros((L,L))\n",
    "for i in range(L):\n",
    "    T[i][0] = 100\n",
    "print(X.shape)\n",
    "print(T.shape)\n",
    "Tnew = T\n",
    "iterations = 100\n",
    "for k in range(iterations):\n",
    "    for i in range(1,L-1):\n",
    "         for j in range(1,L-1):\n",
    "            dxm = T[i-1][j]\n",
    "            dxp = T[i+1][j]\n",
    "            dym = T[i][j-1]\n",
    "            dyp = T[i][j+1]\n",
    "            Tnew[i][j] = (dxp + dxm + dyp + dym)/4\n",
    "            \n",
    "    if k == 0:\n",
    "        print('Total value initially =', np.sum(T))\n",
    "    if k == iterations-1:\n",
    "        print('Total value at the end =', np.sum(T))\n",
    "    \n",
    "    fig.clear()\n",
    "    ax = fig.gca(projection='3d')\n",
    "    ax.plot_surface(X,Y,T,cmap=cm.coolwarm, antialiased=False)\n",
    "    plt.draw()\n",
    "    plt.pause(0.05)\n",
    "    "
   ]
  },
  {
   "cell_type": "code",
   "execution_count": null,
   "metadata": {},
   "outputs": [],
   "source": []
  },
  {
   "cell_type": "code",
   "execution_count": null,
   "metadata": {},
   "outputs": [],
   "source": []
  }
 ],
 "metadata": {
  "kernelspec": {
   "display_name": "Python 2",
   "language": "python",
   "name": "python2"
  },
  "language_info": {
   "codemirror_mode": {
    "name": "ipython",
    "version": 2
   },
   "file_extension": ".py",
   "mimetype": "text/x-python",
   "name": "python",
   "nbconvert_exporter": "python",
   "pygments_lexer": "ipython2",
   "version": "2.7.15"
  }
 },
 "nbformat": 4,
 "nbformat_minor": 2
}
