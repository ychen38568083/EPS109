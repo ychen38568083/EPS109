{
 "cells": [
  {
   "cell_type": "code",
   "execution_count": 1,
   "metadata": {},
   "outputs": [],
   "source": [
    "import matplotlib.pyplot as plt\n",
    "import numpy as np"
   ]
  },
  {
   "cell_type": "code",
   "execution_count": 5,
   "metadata": {},
   "outputs": [],
   "source": [
    "#filename = 'example_file_with_positions_not_used_in_lecture.txt'\n",
    "filename = 'lecture_data_1.txt'"
   ]
  },
  {
   "cell_type": "code",
   "execution_count": 6,
   "metadata": {},
   "outputs": [
    {
     "name": "stdout",
     "output_type": "stream",
     "text": [
      "[0.75 0.47 0.95 0.27 0.11 0.23 0.75 0.99 0.11 0.31 0.61 0.47 0.25 0.43\n",
      " 0.08 0.09 0.11 0.85 0.67 0.92 0.92 0.75 0.91 0.87 0.1  0.55 0.99 0.22\n",
      " 0.42 0.43 0.15 0.61 0.63 0.21 0.01 0.51 0.57 0.03 0.47 0.5  0.79 0.75\n",
      " 0.73 0.87 0.4  0.49 0.81 0.87 0.84 0.79 0.41 0.11 0.79 0.11 0.91 0.52\n",
      " 0.75 0.5  0.75 0.12 0.25 0.21 0.39 0.32 0.15 0.17 0.95 0.25 0.31 0.32\n",
      " 0.21 0.05 0.51 0.8  0.6  0.4  0.45 0.95 0.1  0.6  0.55 0.85 0.6  0.15\n",
      " 0.55 0.1  0.97 0.89 0.21 0.6  0.8  0.85 0.86 0.65 0.15 0.7  0.15 0.19\n",
      " 0.9  0.4 ]\n"
     ]
    }
   ],
   "source": [
    "data = np.loadtxt(filename)\n",
    "print(data)"
   ]
  },
  {
   "cell_type": "code",
   "execution_count": 8,
   "metadata": {},
   "outputs": [
    {
     "data": {
      "text/plain": [
       "[<matplotlib.lines.Line2D at 0x2a3d0797080>]"
      ]
     },
     "execution_count": 8,
     "metadata": {},
     "output_type": "execute_result"
    },
    {
     "data": {
      "image/png": "[encoded data removed]",
      "text/plain": [
       "<Figure size 432x288 with 1 Axes>"
      ]
     },
     "metadata": {},
     "output_type": "display_data"
    }
   ],
   "source": [
    "plt.plot(data, '.')"
   ]
  },
  {
   "cell_type": "code",
   "execution_count": null,
   "metadata": {},
   "outputs": [],
   "source": []
  }
 ],
 "metadata": {
  "kernelspec": {
   "display_name": "Python 3",
   "language": "python",
   "name": "python3"
  },
  "language_info": {
   "codemirror_mode": {
    "name": "ipython",
    "version": 3
   },
   "file_extension": ".py",
   "mimetype": "text/x-python",
   "name": "python",
   "nbconvert_exporter": "python",
   "pygments_lexer": "ipython3",
   "version": "3.6.5"
  }
 },
 "nbformat": 4,
 "nbformat_minor": 2
}
